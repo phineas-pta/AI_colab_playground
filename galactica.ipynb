{
	"cells": [
		{
			"cell_type": "markdown",
			"metadata": {},
			"source": [
				"# Galactica\n",
				"\n",
				"general-purpose scientific (large) language model\n",
				"\n",
				"model offical github: https://github.com/paperswithcode/galai"
			]
		},
		{
			"cell_type": "code",
			"execution_count": null,
			"metadata": {},
			"outputs": [],
			"source": [
				"!nvidia-smi"
			]
		},
		{
			"cell_type": "code",
			"execution_count": null,
			"metadata": {},
			"outputs": [],
			"source": [
				"%pip install git+https://github.com/paperswithcode/galai"
			]
		},
		{
			"cell_type": "markdown",
			"metadata": {},
			"source": [
				"5 models:\n",
				"\n",
				"| Name       | Parameters | Size    |\n",
				"|:----------:|:----------:|:-------:|\n",
				"| `mini`     |    125 M   | 500 MB  |\n",
				"| `base`     |    1.3 B   | 5.3 GB  |\n",
				"| `standard` |    6.7 B   | 27.4 GB |\n",
				"| `large`    |     30 B   | 60 GB   |\n",
				"| `huge`     |    120 B   | 488 GB  |"
			]
		},
		{
			"cell_type": "code",
			"execution_count": null,
			"metadata": {},
			"outputs": [],
			"source": [
				"input_text = \"The Transformer architecture [START_REF]\""
			]
		},
		{
			"cell_type": "code",
			"execution_count": null,
			"metadata": {},
			"outputs": [],
			"source": [
				"import galai\n",
				"model = galai.load_model(\"base\", num_gpus = 1)\n",
				"model.generate(input_text)"
			]
		},
		{
			"cell_type": "code",
			"execution_count": null,
			"metadata": {},
			"outputs": [],
			"source": [
				"from transformers import pipeline\n",
				"model = pipeline(task=\"text-generation\", model=\"facebook/galactica-6.7b\")\n",
				"model(input_text, max_new_tokens=7000)[0][\"generated_text\"]"
			]
		},
		{
			"cell_type": "markdown",
			"metadata": {},
			"source": [
				"📚 **Predict Citations**:"
			]
		},
		{
			"cell_type": "code",
			"execution_count": null,
			"metadata": {},
			"outputs": [],
			"source": [
				"input_text = \"The Transformer architecture [START_REF]\""
			]
		},
		{
			"cell_type": "markdown",
			"metadata": {},
			"source": [
				"🔢 **Predict LaTeX**:"
			]
		},
		{
			"cell_type": "code",
			"execution_count": null,
			"metadata": {},
			"outputs": [],
			"source": [
				"input_text = \"The Schwarzschild radius is defined as: \\\\[\""
			]
		},
		{
			"cell_type": "markdown",
			"metadata": {},
			"source": [
				"🤔 **Reasoning**:"
			]
		},
		{
			"cell_type": "code",
			"execution_count": null,
			"metadata": {},
			"outputs": [],
			"source": [
				"input_text = \"A force of 0.6N is applied to an object, which accelerates at 3m/s. What is its mass? <work>\""
			]
		},
		{
			"cell_type": "markdown",
			"metadata": {},
			"source": [
				"📄 **Generate Documents**:"
			]
		},
		{
			"cell_type": "code",
			"execution_count": null,
			"metadata": {},
			"outputs": [],
			"source": [
				"model.generate(\"Lecture 1: The Ising Model\\n\\n\", new_doc=True, top_p=0.7, max_length=200)"
			]
		},
		{
			"cell_type": "markdown",
			"metadata": {},
			"source": [
				"⚛️ **Generate Molecules**:"
			]
		},
		{
			"cell_type": "code",
			"execution_count": null,
			"metadata": {},
			"outputs": [],
			"source": [
				"model.generate(\"[START_I_SMILES]\", top_p=0.6, max_length=200)"
			]
		},
		{
			"cell_type": "markdown",
			"metadata": {},
			"source": [
				"🧑‍🔬 **Predict Protein Annotations**:"
			]
		},
		{
			"cell_type": "code",
			"execution_count": null,
			"metadata": {},
			"outputs": [],
			"source": [
				"model.generate(\"[START_AMINO]GHMQSITAGQKVISKHKNGRFYQCEVVRLTTETFYEVNFDDGSFSDNLYPEDIVSQDCLQFGPPAEGEVVQVRWTDGQVYGAKFVASHPIQMYQVEFEDGSQLVVKRDDVYTLDEELP[END_AMINO] ## Keywords\", max_length=200)"
			]
		}
	],
	"metadata": {
		"accelerator": "GPU",
		"colab": {
			"collapsed_sections": [],
			"name": "galactica.ipynb",
			"private_outputs": true,
			"provenance": []
		},
		"gpuClass": "standard",
		"kernelspec": {
			"display_name": "Python 3",
			"name": "python3"
		},
		"language_info": {
			"name": "python"
		}
	},
	"nbformat": 4,
	"nbformat_minor": 2
}
