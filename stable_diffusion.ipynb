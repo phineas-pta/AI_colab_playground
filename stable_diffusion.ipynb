{
	"cells": [
		{
			"cell_type": "markdown",
			"metadata": {},
			"source": [
				"# Stable Diffusion\n",
				"\n",
				"text-to-image generator\n",
				"\n",
				"official github: https://github.com/CompVis/stable-diffusion\n",
				"\n",
				"notebook copied from https://github.com/woctezuma/stable-diffusion-colab"
			]
		},
		{
			"cell_type": "code",
			"execution_count": null,
			"metadata": {},
			"outputs": [],
			"source": [
				"!nvidia-smi"
			]
		},
		{
			"cell_type": "code",
			"execution_count": null,
			"metadata": {},
			"outputs": [],
			"source": [
				"%pip install --quiet --upgrade diffusers transformers scipy mediapy"
			]
		},
		{
			"cell_type": "code",
			"execution_count": null,
			"metadata": {},
			"outputs": [],
			"source": [
				"import torch, mediapy\n",
				"from diffusers import (\n",
				"\tStableDiffusionPipeline, StableDiffusionImg2ImgPipeline, StableDiffusionInpaintPipeline,\n",
				"\tLMSDiscreteScheduler, # sampler suggested by DreamStudio\n",
				"\tPNDMScheduler, # default in v1\n",
				"\tDDIMScheduler, # default in v2, great results at a blazing fast speed\n",
				"\tEulerDiscreteScheduler, EulerAncestralDiscreteScheduler, # changes generation style a lot at each step\n",
				"\tDPMSolverMultistepScheduler # fastest\n",
				")"
			]
		},
		{
			"cell_type": "code",
			"execution_count": null,
			"metadata": {},
			"outputs": [],
			"source": [
				"yolo_diff = [\n",
				"\t\"runwayml/stable-diffusion-v1-5\",\n",
				"\t\"hakurei/waifu-diffusion\",\n",
				"\t\"stabilityai/stable-diffusion-2-base\", # 512×512\n",
				"\t\"stabilityai/stable-diffusion-2\", # 768×768\n",
				"\t# all models below don’t need `revision`\n",
				"\t\"Langboat/Guohua-Diffusion\", #  traditional Chinese paintings, token: guohua style\n",
				"\t\"Aybeeceedee/knollingcase\", # token: knollingcase\n",
				"\t\"ProGamerGov/knollingcase-embeddings-sd-v2-0\"\n",
				"\t\"proxima/darkvictorian_artstyle\", # token: darkvictorian artstyle\n",
				"\t\"proxima/halloween_diffusion\", # token: halloweenv1 artstyle\n",
				"\t\"nitrosocke/redshift-diffusion\", # 3D artwork, token: redshift style\n",
				"\t\"nitrosocke/redshift-diffusion-768\" # SD v2\n",
				"\t\"nitrosocke/Ghibli-Diffusion\", # token: ghibli style\n",
				"\t\"nitrosocke/mo-di-diffusion\", # token: modern disney style\n",
				"\t\"nitrosocke/classic-anim-diffusion\", # token: classic disney style\n",
				"\t\"Guizmus/MosaicArt\", # token: Mosaic Art\n",
				"\t\"sd-dreambooth-library/fashion\" # no need token\n",
				"\t\"sd-dreambooth-library/disco-diffusion-style\", # token: ddfusion style\n",
				"\t\"Fictiverse/Stable_Diffusion_Microscopic_model\", # token: Microscopic\n",
				"\t\"Fictiverse/Stable_Diffusion_BalloonArt_Model\", # token: BalloonArt\n",
				"\t\"Fictiverse/Stable_Diffusion_PaperCut_Model\", # token: PaperCut\n",
				"\t\"plasmo/woolitize-768sd1-5\", # token: woolitize\n",
				"\t\"plasmo/colorjizz-768px\" # token: colorjizz\n",
				"\t\"plasmo/vox2\", # token: voxel-ish\n",
				"\t\"DGSpitzer/Cyberpunk-Anime-Diffusion\",\n",
				"\t\"ogkalu/Comic-Diffusion\" # token: [artist] style, with artist: charliebo/holliemengert/marioalberti/pepelarraz/andreasrocha/jamesdaly\n",
				"]"
			]
		},
		{
			"cell_type": "markdown",
			"metadata": {},
			"source": [
				"safety check removed"
			]
		},
		{
			"cell_type": "code",
			"execution_count": null,
			"metadata": {},
			"outputs": [],
			"source": [
				"model_id = yolo_diff[2]\n",
				"pipe = StableDiffusionPipeline.from_pretrained(\n",
				"\tmodel_id, scheduler=DDIMScheduler.from_pretrained(model_id, subfolder=\"scheduler\"),\n",
				"\trevision=\"fp16\", torch_dtype=torch.float16, safety_checker=None\n",
				").to(\"cuda\")"
			]
		},
		{
			"cell_type": "code",
			"execution_count": null,
			"metadata": {},
			"outputs": [],
			"source": [
				"images = pipe(\n",
				"\tprompt=\"a photo of an astronaut riding a horse on mars\",\n",
				"\t# negative_prompt=\"\",\n",
				"\t# height=512, width=512,\n",
				"\tnum_images_per_prompt=5,\n",
				"\tguidance_scale=7.5, # should be between 0 and 20\n",
				"\tnum_inference_steps=50 # should be between 10 and 150\n",
				").images\n",
				"\n",
				"mediapy.show_images(images)\n",
				"# images[0].save(\"output.jpg\")"
			]
		}
	],
	"metadata": {
		"accelerator": "GPU",
		"colab": {
			"collapsed_sections": [],
			"name": "stable_diffusion.ipynb",
			"private_outputs": true,
			"provenance": []
		},
		"gpuClass": "standard",
		"kernelspec": {
			"display_name": "Python 3",
			"name": "python3"
		},
		"language_info": {
			"name": "python"
		}
	},
	"nbformat": 4,
	"nbformat_minor": 2
}
