{
	"cells": [
		{
			"cell_type": "markdown",
			"metadata": {},
			"source": [
				"# Whisper\n",
				"\n",
				"general-purpose speech recognition model\n",
				"\n",
				"model offical github: https://github.com/openai/whisper"
			]
		},
		{
			"cell_type": "code",
			"execution_count": null,
			"metadata": {},
			"outputs": [],
			"source": [
				"!nvidia-smi"
			]
		},
		{
			"cell_type": "code",
			"execution_count": null,
			"metadata": {},
			"outputs": [],
			"source": [
				"%pip install git+https://github.com/openai/whisper.git"
			]
		},
		{
			"cell_type": "markdown",
			"metadata": {},
			"source": [
				"5 models:\n",
				"\n",
				"|  Size  | Parameters | English-only model | Multilingual model | Required VRAM | Relative speed |\n",
				"|:------:|:----------:|:------------------:|:------------------:|:-------------:|:--------------:|\n",
				"|  tiny  |    39 M    |     `tiny.en`      |       `tiny`       |     ~1 GB     |      ~32x      |\n",
				"|  base  |    74 M    |     `base.en`      |       `base`       |     ~1 GB     |      ~16x      |\n",
				"| small  |   244 M    |     `small.en`     |      `small`       |     ~2 GB     |      ~6x       |\n",
				"| medium |   769 M    |    `medium.en`     |      `medium`      |     ~5 GB     |      ~2x       |\n",
				"| large  |   1550 M   |        N/A         |      `large`       |    ~10 GB     |       1x       |"
			]
		},
		{
			"cell_type": "code",
			"execution_count": null,
			"metadata": {},
			"outputs": [],
			"source": [
				"import whisper\n",
				"model = whisper.load_model(\"large\")"
			]
		},
		{
			"cell_type": "code",
			"execution_count": null,
			"metadata": {},
			"outputs": [],
			"source": [
				"audio = whisper.load_audio(\"yolo.mp3\")\n",
				"# np.save(\"yolo.npy\", audio)\n",
				"# audio = np.load(\"yolo.npy\")\n",
				"result = model.transcribe(audio, verbose=False)"
			]
		},
		{
			"cell_type": "markdown",
			"metadata": {},
			"source": [
				"save as subtitle `.srt` file"
			]
		},
		{
			"cell_type": "code",
			"execution_count": null,
			"metadata": {},
			"outputs": [],
			"source": [
				"with open(\"yolo.srt\", \"w\", encoding=\"utf-8\") as f:\n",
				"\twhisper.utils.write_srt(result[\"segments\"], file=f)"
			]
		}
	],
	"metadata": {
		"accelerator": "GPU",
		"colab": {
			"collapsed_sections": [],
			"name": "whisper.ipynb",
			"private_outputs": true,
			"provenance": []
		},
		"gpuClass": "standard",
		"kernelspec": {
			"display_name": "Python 3",
			"name": "python3"
		},
		"language_info": {
			"name": "python"
		}
	},
	"nbformat": 4,
	"nbformat_minor": 2
}
